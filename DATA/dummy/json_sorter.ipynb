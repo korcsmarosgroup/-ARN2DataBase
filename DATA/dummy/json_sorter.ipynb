{
 "cells": [
  {
   "cell_type": "code",
   "execution_count": 28,
   "metadata": {
    "collapsed": false
   },
   "outputs": [],
   "source": [
    "import json\n",
    "\n",
    "nodes_json = 'all_output/dummy_nodes.json'\n",
    "edge_json = 'all_output/dummy_edges.json'\n",
    "attribute_json = 'all_output/dummy_attributes.json'\n",
    "\n",
    "jsondata = json.loads(open(attribute_json).read())\n",
    "with open('all_output/dummy_attributes_sorted.json', 'w') as outfile2:\n",
    "    json.dump(jsondata, outfile2, indent=4, sort_keys=True)"
   ]
  },
  {
   "cell_type": "code",
   "execution_count": null,
   "metadata": {
    "collapsed": true
   },
   "outputs": [],
   "source": []
  }
 ],
 "metadata": {
  "kernelspec": {
   "display_name": "Python 3",
   "language": "python",
   "name": "python3"
  },
  "language_info": {
   "codemirror_mode": {
    "name": "ipython",
    "version": 3
   },
   "file_extension": ".py",
   "mimetype": "text/x-python",
   "name": "python",
   "nbconvert_exporter": "python",
   "pygments_lexer": "ipython3",
   "version": "3.5.1"
  }
 },
 "nbformat": 4,
 "nbformat_minor": 2
}
